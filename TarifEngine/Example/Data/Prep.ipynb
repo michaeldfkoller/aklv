{
 "cells": [
  {
   "cell_type": "code",
   "execution_count": 14,
   "id": "3a34eb06-902a-44eb-9d50-0f1ab9194f29",
   "metadata": {},
   "outputs": [],
   "source": [
    "pF = open(\"inpevkv.dat\",\"r\")\n",
    "all=pF.read()\n",
    "lines=all.split(\"\\n\")\n",
    "pF.close()"
   ]
  },
  {
   "cell_type": "code",
   "execution_count": 16,
   "id": "5cddec1e-e9f8-415b-9d93-79901a39ba19",
   "metadata": {},
   "outputs": [
    {
     "data": {
      "text/plain": [
       "4513"
      ]
     },
     "execution_count": 16,
     "metadata": {},
     "output_type": "execute_result"
    }
   ],
   "source": [
    "len(lines)"
   ]
  },
  {
   "cell_type": "code",
   "execution_count": 76,
   "id": "038c3fca-3a27-4592-b2b7-615fe6a32018",
   "metadata": {},
   "outputs": [
    {
     "name": "stdout",
     "output_type": "stream",
     "text": [
      "['2AR.000', '2ARG015', '2ARS961', '0A..000', '1G..000', '2A..000', '2A..000+2T.W000', '2A.G020', '2A.G005', '2ARS963', '2ARS964', '2A.G015', '2A.G012', '2A..000+2T.H101', '2A.G006', '2A.G010', '2ARS962', '2A.S230', '2AR.000+2T.W000', '2ARG005', '2ARG006', '2ARG010', '2ARG020', '2ARG004', '2AR.000+2T.H101', '2ARS230', '2ARG012', '2ARG003', '2ARS250', '2ARS293', 'EV-G', '']\n"
     ]
    }
   ],
   "source": [
    "allTar = []\n",
    "for i in range(len(lines)):\n",
    "    tok =lines[i].split(\"\\t\")\n",
    "    if len(tok)<4:\n",
    "        tok =lines[i].split(\" \")\n",
    "    if tok[0] not in allTar:\n",
    "        allTar.append(tok[0])\n",
    "\n",
    "print(allTar)\n"
   ]
  },
  {
   "cell_type": "code",
   "execution_count": 87,
   "id": "efa2d223-21bd-4f99-b223-bb3911e05138",
   "metadata": {},
   "outputs": [
    {
     "name": "stdout",
     "output_type": "stream",
     "text": [
      "EV-G 1  7  18  42929.02  2165.06  0.03\n",
      "Line: 0 2AR.000\t2\t0\t0\t19491\t0\t0.035\n",
      "Line: 100 0A..000\t1\t28\t64\t694395\t0\t0.035\n",
      "Line: 200 0A..000\t2\t35\t65\t798635\t0\t0.035\n",
      "Line: 300 1G..000\t2\t40\t65\t6898569\t0\t0.035\n",
      "Line: 400 2ARS961\t2\t44\t0\t1359\t0\t0.035\n",
      "Line: 500 2A..000\t2\t48\t62\t278883\t119384.4\t0.035\n",
      "Line: 600 1G..000\t2\t52\t60\t8415\t0\t0.035\n",
      "Line: 700 1G..000\t1\t55\t63\t540413\t5731\t0.035\n",
      "Line: 800 2ARS962\t2\t57\t0\t2360\t0\t0.035\n",
      "Line: 900 2A..000\t2\t60\t63\t878\t0\t0.035\n",
      "Line: 1000 2A.G006\t2\t62\t62\t8949\t2702.9\t0.035\n",
      "Line: 1100 2A..000+2T.W000\t1\t65\t65\t16474\t0\t0.035\n",
      "Line: 1200 2A..000\t1\t69\t85\t3476\t0\t0.035\n",
      "Line: 1300 2ARS962\t1\t73\t0\t6058\t0\t0.035\n",
      "Line: 1400 2ARS961\t1\t79\t0\t96507\t0\t0.035\n",
      "Line: 1500 2AR.000+2T.W000\t1\t85\t0\t4800\t0\t0.035\n",
      "Line: 1600 2ARG020\t1\t92\t0\t27838\t0\t0.035\n",
      "Line: 1700 EV-G 1  10  40  60000  1270.6  0.03\n",
      "Line: 1800 EV-G 1  15  46  113768.62  0  0.03\n",
      "Line: 1900 EV-G 1  19  51  380844.82  10253.2  0.03\n",
      "Line: 2000 EV-G 1  23  26  32892  1174.24  0.03\n",
      "Line: 2100 EV-G 1  26  35  105426  4473.6  0.03\n",
      "Line: 2200 EV-G 1  29  38  8080  0  0.03\n",
      "Line: 2300 EV-G 1  32  38  57731.2  2470  0.03\n",
      "Line: 2400 EV-G 1  35  40  1065615.64  37902.88  0.03\n",
      "Line: 2500 EV-G 1  38  45  1083676.76  33490.86  0.03\n",
      "Line: 2600 EV-G 1  41  56  502590.7  4214.4  0.03\n",
      "Line: 2700 EV-G 1  45  52  143412.74  2869  0.03\n",
      "Line: 2800 EV-G 1  49  63  4875933.28  149475  0.03\n",
      "Line: 2900 EV-G 1  55  60  85192579.4000001  2172862.62  0.03\n",
      "Line: 3000 EV-G 1  61  74  315463.9  0  0.03\n",
      "Line: 3100 EV-G 1  73  76  389117.22  0  0.03\n",
      "Line: 3200 EV-G 2  12  23  35929.1  0  0.03\n",
      "Line: 3300 EV-G 2  16  66  0  0  0.03\n",
      "Line: 3400 EV-G 2  20  55  132292.56  2555.6  0.03\n",
      "Line: 3500 EV-G 2  24  51  66884  1570.44  0.03\n",
      "Line: 3600 EV-G 2  28  32  20000  1400  0.03\n",
      "Line: 3700 EV-G 2  31  44  63162  2388  0.03\n",
      "Line: 3800 EV-G 2  34  52  400000  11240  0.03\n",
      "Line: 3900 EV-G 2  37  63  173365.26  2940.08  0.03\n",
      "Line: 4000 EV-G 2  41  56  452169.34  15230.84  0.03\n",
      "Line: 4100 EV-G 2  45  63  683089.96  3973  0.03\n",
      "Line: 4200 EV-G 2  50  56  181825.64  5618.4  0.03\n",
      "Line: 4300 EV-G 2  56  60  42735222.68  329305.7  0.03\n",
      "Line: 4400 EV-G 2  64  64  3778741.98  26432.88  0.03\n",
      "Line: 4500 EV-G 2  78  85  29594.5  0  0.03\n",
      "\n",
      "Err 1 Line 4512\n",
      "238077\n"
     ]
    }
   ],
   "source": [
    "def strMapper(strLine):\n",
    "    tok =strLine.split(\"\\t\")\n",
    "    if len(tok)<4:\n",
    "        strLine=strLine.replace(\"  \",\" \")\n",
    "        tok =strLine.split(\" \")\n",
    "    d=dict()\n",
    "    strTar =tok[0]\n",
    "    strNewTar = \"ERROR\"\n",
    "    if strTar[1:3] == \"AR\":\n",
    "        strNewTar = \"AR.\"\n",
    "    if strTar[1:3] == \"A.\":\n",
    "        strNewTar = \"A..\"\n",
    "    if strTar[1:3] == \"G.\":\n",
    "        strNewTar = \"G..\"\n",
    "    if strTar == \"EV-G\":\n",
    "        strNewTar = \"G..\"\n",
    "    if strNewTar == \"ERROR\":\n",
    "        print(tok[0])\n",
    "        stop\n",
    "    \n",
    "    d[\"tariff\"] = strNewTar   \n",
    "    d[\"g\"] = int(tok[1])-1\n",
    "    d[\"x\"] = tok[2]\n",
    "    d[\"b\"] = tok[3]\n",
    "    d[\"L\"] = tok[4]\n",
    "    d[\"P\"] = tok[5]\n",
    "    return(d)\n",
    "\n",
    "def InvStrMapper(d):\n",
    "    strOut1 = \"%s;\"%(d[\"tariff\"])\n",
    "    strOut2 = \"ART;\"\n",
    "    fL = float(d[\"L\"])\n",
    "    fP = float(d[\"P\"])\n",
    "    #A..;x=20;b=65;fLevel=10000000.;QX=Medieval\n",
    "    #ART;x=20;s=65;fLevel=-2000000.;QX=Medieval\n",
    "    strOut1 += \"g=%d;\"%(d[\"g\"])\n",
    "    strOut2 += \"g=%d;\"%(d[\"g\"])\n",
    "    strOut1 += \"x=%s;\"%(d[\"x\"])\n",
    "    strOut2 += \"x=%s;\"%(d[\"x\"])\n",
    "    if d[\"tariff\"] == \"A..\" or d[\"tariff\"] == \"AR.\":\n",
    "        strOut1 += \"b=%s;\"%(d[\"b\"])\n",
    "        strOut2 += \"b=%s;\"%(d[\"b\"])\n",
    "    else:\n",
    "        strOut1 += \"s=%s;\"%(d[\"b\"])\n",
    "        strOut2 += \"s=%s;\"%(d[\"b\"])\n",
    "    strOut1 += \"fLevel=%.0f;\"%(fL)\n",
    "    strOut2 += \"fLevel=%.0f;\"%(-fP)\n",
    "    if fP>0:\n",
    "        return(strOut1+\"\\n\"+strOut2+\"\\n\")\n",
    "    return(strOut1+\"\\n\")\n",
    "    \n",
    "\n",
    "print(lines[1657])\n",
    "\n",
    "strOut = \"\"\n",
    "iErr = 0\n",
    "for i in range(len(lines)):\n",
    "    if i%100 == 0: print(\"Line:\",i,lines[i])\n",
    "    try:\n",
    "        strOut+= InvStrMapper(strMapper(lines[i]))\n",
    "    except:\n",
    "        iErr +=1\n",
    "        print(\"Err %d Line %i\"%(iErr,i))\n",
    "\n",
    "print(len(strOut))\n",
    "\n",
    "fOut = open(\"exa2.txt\",\"w\")\n",
    "fOut.write(strOut)\n",
    "fOut.close()"
   ]
  },
  {
   "cell_type": "code",
   "execution_count": null,
   "id": "54746af6-c951-4d2f-902d-b1b7f038f1d2",
   "metadata": {},
   "outputs": [],
   "source": []
  },
  {
   "cell_type": "code",
   "execution_count": null,
   "id": "4020d381-8115-4084-9c4b-c5d8b2834965",
   "metadata": {},
   "outputs": [],
   "source": []
  }
 ],
 "metadata": {
  "kernelspec": {
   "display_name": "Python 3 (ipykernel)",
   "language": "python",
   "name": "python3"
  },
  "language_info": {
   "codemirror_mode": {
    "name": "ipython",
    "version": 3
   },
   "file_extension": ".py",
   "mimetype": "text/x-python",
   "name": "python",
   "nbconvert_exporter": "python",
   "pygments_lexer": "ipython3",
   "version": "3.12.4"
  }
 },
 "nbformat": 4,
 "nbformat_minor": 5
}
