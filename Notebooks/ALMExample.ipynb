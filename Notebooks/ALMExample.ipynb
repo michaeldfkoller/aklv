{
 "cells": [
  {
   "cell_type": "code",
   "execution_count": 1,
   "metadata": {},
   "outputs": [
    {
     "name": "stdout",
     "output_type": "stream",
     "text": [
      "Discount 0.9804\n",
      "  30 :       2.6996        -0.9874        -0.5068  \n",
      "  31 :       2.5449        -1.1421        -0.6615  \n",
      "  32 :       2.3871        -1.2998        -0.8192  \n",
      "  33 :       2.2262        -1.4608        -0.9802  \n",
      "  34 :       2.0621        -1.6249        -1.1443  \n",
      "  35 :       1.8946        -1.7923        -1.3114  \n",
      "  36 :       1.7234        -1.9632        -1.4791  \n",
      "  37 :       1.5452        -2.1383        -1.6244  \n",
      "  38 :       1.3312        -2.3203        -1.5485  \n",
      "  39 :       0.8804        -2.4451         0.0000  \n",
      "  40 :       0.0000         0.0000         0.0000  \n"
     ]
    },
    {
     "data": {
      "image/png": "[encoded data removed]",
      "text/plain": [
       "<Figure size 432x288 with 1 Axes>"
      ]
     },
     "metadata": {
      "needs_background": "light"
     },
     "output_type": "display_data"
    },
    {
     "data": {
      "image/png": "[encoded data removed]",
      "text/plain": [
       "<Figure size 432x288 with 1 Axes>"
      ]
     },
     "metadata": {
      "needs_background": "light"
     },
     "output_type": "display_data"
    }
   ],
   "source": [
    "import numpy as np\n",
    "import matplotlib.pyplot as plt\n",
    "\n",
    "class Markov:\n",
    "    def __init__(self):\n",
    "        self.iNrStates = None\n",
    "        self.iMaxTime  = None    \n",
    "        self.dPij = []\n",
    "        self.dPre = []\n",
    "        self.dPost= []\n",
    "        self.dv   = []\n",
    "        self.dDK  = []\n",
    "        self.dCF  = []\n",
    "        self.bCalculated = False\n",
    "        self.bCFCalculated = False\n",
    "        self.iStart = None\n",
    "        self.iStop  = None\n",
    "    \n",
    "    def vDefineModel(self,iNrStates,iMaxTime=1200):\n",
    "        self.iNrStates = iNrStates\n",
    "        self.iMaxTime = iMaxTime\n",
    "        for i in range(iMaxTime):\n",
    "            tempPij = np.zeros([iNrStates,iNrStates])\n",
    "            tempPost = np.zeros([iNrStates,iNrStates])\n",
    "            tempPre = np.zeros([iNrStates])\n",
    "            tempDK = np.zeros([iNrStates])\n",
    "            tempCF = np.zeros([iNrStates])\n",
    "            self.dPij.append(tempPij)\n",
    "            self.dPost.append(tempPost)\n",
    "            self.dPre.append(tempPre)\n",
    "            self.dDK.append(tempDK)\n",
    "            self.dCF.append(tempCF)         \n",
    "        tempv = np.zeros([iMaxTime])\n",
    "        self.dv=tempv\n",
    "    \n",
    "    def vSetDiscount(self,fIRate):\n",
    "        vTemp = 1./(1.+fIRate)\n",
    "        print(\"Discount %.4f\"%(vTemp))\n",
    "        for i in range(self.iMaxTime):\n",
    "            self.dv[i] = vTemp\n",
    "        self.bCalculated = False\n",
    "        self.bCFCalculated = False\n",
    "    \n",
    "    def vSetPij(self,t,i,j,fValue):\n",
    "        self.dPij[t][i,j] = fValue\n",
    "        self.bCalculated = False\n",
    "        self.bCFCalculated = False\n",
    "    \n",
    "    def vSetPre(self,t,i,j,fValue):\n",
    "        self.dPre[t][i] = fValue\n",
    "        self.bCalculated = False\n",
    "        self.bCFCalculated = False\n",
    "    \n",
    "    def vSetPost(self,t,i,j,fValue):\n",
    "        self.dPost[t][i,j] = fValue\n",
    "        self.bCalculated = False\n",
    "        self.bCFCalculated = False\n",
    "    \n",
    "    \n",
    "    def doCalculateDK(self,iStart,iStop,iAge,iState):\n",
    "        self.iStop = iStop\n",
    "        self.iStart = iStart\n",
    "        self.bCalculated = True\n",
    "        for i in range(self.iMaxTime):\n",
    "            self.dDK[i] *= 0.\n",
    "        \n",
    "        for i in range(self.iStart-1, self.iStop-1,-1):\n",
    "            #print(\"Calc Time\", i)\n",
    "            for j in range(self.iNrStates):\n",
    "                self.dDK[i][j] = self.dPre[i][j]\n",
    "                for k in range(self.iNrStates):\n",
    "                    self.dDK[i][j] += self.dv[i]*self.dPij[i][j,k]*(self.dPost[i][j,k]+self.dDK[i+1][k])\n",
    "    \n",
    "    def doCalculateCF(self,iStart,iStop,iAge,iState,bTrace=False):\n",
    "        self.iStop = iStop\n",
    "        self.iStart = iStart\n",
    "        self.bCFCalculated = True\n",
    "        for i in range(self.iMaxTime):\n",
    "            self.dCF[i] *= 0.\n",
    "        \n",
    "        CurrentP = np.mat(np.identity(self.iNrStates))\n",
    "        if bTrace:\n",
    "            print(\"----- ----- ----- ----- \")\n",
    "        for i in range(self.iStop, self.iStart):\n",
    "            if bTrace:\n",
    "                print(\"----- ----- ----- ----- \")\n",
    "                print(\" Time \", i)\n",
    "                print(\"CF BoP\", self.dCF[i])\n",
    "            for k in range(self.iNrStates):\n",
    "                for l in range(self.iNrStates):\n",
    "                    self.dCF[i][k] += CurrentP[k,l] * self.dPre[i][l]\n",
    "            if bTrace:\n",
    "                print(\"CF BoP after Pre\", self.dCF[i])\n",
    "            NextP = np.mat(self.dPij[i])\n",
    "            if bTrace:\n",
    "                print(\"+++++ +++++ +++++ \")\n",
    "                print(\"CurrentP\\n\", CurrentP) \n",
    "                print(\"+++++ +++++ +++++ \")\n",
    "                print(\"Next P\\n\", NextP) \n",
    "                print(\"+++++ +++++ +++++ \")\n",
    "                \n",
    "            for k in range(self.iNrStates):\n",
    "                for l in range(self.iNrStates):\n",
    "                    for m in range(self.iNrStates):\n",
    "                        self.dCF[i+1][k] += CurrentP[k,l] * NextP[l,m] * self.dPost[i][l,m]\n",
    "            if bTrace:\n",
    "                print(\"CF EoP t\", self.dCF[i])\n",
    "                print(\"CF EoP t+1\", self.dCF[i+1])\n",
    "            \n",
    "            CurrentP = CurrentP * NextP\n",
    "            if bTrace:\n",
    "                print(\"+++++ +++++ +++++ \")\n",
    "                print(\"CurrentP EoP\\n\", CurrentP) \n",
    "                print(\"+++++ +++++ +++++ \")\n",
    "    \n",
    "    def dGetDK(self,iStart,iStop,iAge,iState):\n",
    "        if (iStart != self.iStart or iStop != self.iStop or not(self.bCalculated)):\n",
    "            self.doCalculateDK(iStart,iStop,iAge,iState)\n",
    "        return(self.dDK[iAge][iState])\n",
    "\n",
    "    def dGetCF(self,iStart,iStop,iAge,iState):\n",
    "        if (not(self.bCFCalculated) or self.iStart != iStart or self.iStop != iStop ):\n",
    "            self.doCalculateCF(iStart,iStop,iAge,iState)\n",
    "        return(self.dCF[iAge][iState])\n",
    "    \n",
    "    def PrintDKs(self,iStart,iStop):\n",
    "        for i in range(iStop,iStart+1):\n",
    "            strTemp = \" %3d :\"%(i)\n",
    "            for j in range(self.iNrStates):\n",
    "                 strTemp += \"   %10.4f  \"%(self.dGetDK(iStart,iStop,i,j))\n",
    "            print(strTemp)\n",
    "    \n",
    "    def PlotDKs(self,iStart,iStop,figNr=1):\n",
    "        x = []\n",
    "        y = []\n",
    "        for i in range(iStop,iStart+1):\n",
    "            x.append(i)\n",
    "            ytemp = np.zeros(self.iNrStates)\n",
    "            for j in range(self.iNrStates):\n",
    "                ytemp[j] = self.dGetDK(iStart,iStop,i,j)\n",
    "            y.append(ytemp)\n",
    "        plt.figure(figNr)\n",
    "        plt.plot(x,y)\n",
    "        plt.grid(True)\n",
    "        \n",
    "    def PlotCFs(self,iStart,iStop,figNr=2):\n",
    "        import matplotlib.colors as mcolors\n",
    "        A= []\n",
    "        for i in mcolors.TABLEAU_COLORS.keys():\n",
    "            A.append(i)\n",
    "        for i in mcolors.BASE_COLORS.keys():\n",
    "            A.append(i)\n",
    "        \n",
    "        xBar =[]\n",
    "        hBar =[]\n",
    "        bBar =[]\n",
    "        cBar =[]\n",
    "        y = []\n",
    "        for i in range(iStop,iStart+1):\n",
    "            for j in range(self.iNrStates):\n",
    "                xBar.append(i+(0.5+j)*0.9/self.iNrStates)\n",
    "                hBar.append(self.dGetCF(iStart,iStop,i,j))\n",
    "                bBar.append(0)\n",
    "                cBar.append(A[j])\n",
    "            \n",
    "        plt.figure(figNr)\n",
    "        plt.bar(xBar,hBar,bottom=bBar, width = 0.9/self.iNrStates,color=cBar)\n",
    "        plt.grid(True)\n",
    "\n",
    "symM = Markov()\n",
    "\n",
    "symM.vDefineModel(3)\n",
    "\n",
    "symM.vSetDiscount(0.02)\n",
    "\n",
    "iStart = 40\n",
    "iStop = 30\n",
    "\n",
    "for i in range(30,40):\n",
    "    symM.vSetPij(i,0,0,0.8)\n",
    "    symM.vSetPij(i,0,1,0.1)\n",
    "    symM.vSetPij(i,0,2,0.1)\n",
    "    symM.vSetPij(i,1,0,0.7)\n",
    "    symM.vSetPij(i,1,1,0.2)\n",
    "    symM.vSetPij(i,1,2,0.1)\n",
    "    symM.vSetPij(i,2,0,0.15)\n",
    "    symM.vSetPij(i,2,1,0.7)\n",
    "    symM.vSetPij(i,2,2,0.15)\n",
    "    symM.vSetPre(i,0,0,-0.10)\n",
    "    symM.vSetPre(i,1,0,0.30)\n",
    "    symM.vSetPost(i,0,2,10)\n",
    "    symM.vSetPost(i,1,0,-4)\n",
    "\n",
    "symM.PrintDKs(iStart,iStop)\n",
    "symM.PlotDKs(iStart,iStop)\n",
    "symM.PlotCFs(iStart,iStop)               \n",
    "\n",
    "\n",
    "    \n"
   ]
  },
  {
   "cell_type": "code",
   "execution_count": 2,
   "metadata": {},
   "outputs": [
    {
     "name": "stdout",
     "output_type": "stream",
     "text": [
      "Discount 0.9662\n",
      "Discount 0.9662\n",
      "Premium 2156.996365\n",
      "  30 :       0.0000         0.0000  \n",
      "  31 :    1987.7420         0.0000  \n",
      "  32 :    4026.9884         0.0000  \n",
      "  33 :    6118.3085         0.0000  \n",
      "  34 :    8262.2191         0.0000  \n",
      "  35 :   10459.1803         0.0000  \n",
      "  36 :   12709.5903         0.0000  \n",
      "  37 :   15013.7813         0.0000  \n",
      "  38 :   17372.0144         0.0000  \n",
      "  39 :   19784.4750         0.0000  \n",
      "  40 :   22251.2680         0.0000  \n",
      "  41 :   24772.4137         0.0000  \n",
      "  42 :   27347.8432         0.0000  \n",
      "  43 :   29977.3948         0.0000  \n",
      "  44 :   32660.8099         0.0000  \n",
      "  45 :   35397.7305         0.0000  \n",
      "  46 :   38187.6961         0.0000  \n",
      "  47 :   41030.1423         0.0000  \n",
      "  48 :   43924.3998         0.0000  \n",
      "  49 :   46869.6945         0.0000  \n",
      "  50 :   49865.1485         0.0000  \n",
      "  51 :   52909.7835         0.0000  \n",
      "  52 :   56002.5249         0.0000  \n",
      "  53 :   59142.2081         0.0000  \n",
      "  54 :   62327.5878         0.0000  \n",
      "  55 :   65557.3490         0.0000  \n",
      "  56 :   68830.1220         0.0000  \n",
      "  57 :   72144.5003         0.0000  \n",
      "  58 :   75499.0639         0.0000  \n",
      "  59 :   78892.4064         0.0000  \n",
      "  60 :   82323.1692         0.0000  \n",
      "  61 :   85790.0823         0.0000  \n",
      "  62 :   89292.0133         0.0000  \n",
      "  63 :   92828.0274         0.0000  \n",
      "  64 :   96397.4594         0.0000  \n",
      "  65 :       0.0000         0.0000  \n"
     ]
    },
    {
     "data": {
      "image/png": "[encoded data removed]",
      "text/plain": [
       "<Figure size 432x288 with 1 Axes>"
      ]
     },
     "metadata": {
      "needs_background": "light"
     },
     "output_type": "display_data"
    }
   ],
   "source": [
    "def mu(x):\n",
    "    return(np.exp(-9.13275+0.0809*x+0.000011*x*x))\n",
    "\n",
    "symM = Markov()\n",
    "\n",
    "symM.vDefineModel(2)\n",
    "\n",
    "symM.vSetDiscount(0.035)\n",
    "\n",
    "symMP = Markov()\n",
    "\n",
    "symMP.vDefineModel(2)\n",
    "\n",
    "symMP.vSetDiscount(0.035)\n",
    "\n",
    "\n",
    "\n",
    "iStart = 65\n",
    "iStop = 30\n",
    "PP = -2129\n",
    "\n",
    "for i in range(30,65):\n",
    "    qx = mu(i)\n",
    "    symM.vSetPij(i,0,0,1-qx)\n",
    "    symM.vSetPij(i,0,1,qx)\n",
    "    symM.vSetPij(i,1,1,1.)\n",
    "    symM.vSetPost(i,0,1,200000.)\n",
    "    symM.vSetPre(i,0,0,0)\n",
    "    symMP.vSetPij(i,0,0,1-qx)\n",
    "    symMP.vSetPij(i,0,1,qx)\n",
    "    symMP.vSetPij(i,1,1,1.)\n",
    "    symMP.vSetPost(i,0,1,0.)\n",
    "    symMP.vSetPre(i,0,0,1)\n",
    "\n",
    "symM.vSetPost(iStart-1,0,0,100000.)\n",
    "\n",
    "PP = symM.dGetDK(iStart,iStop,iStop,0)/symMP.dGetDK(iStart,iStop,iStop,0)\n",
    "\n",
    "print(\"Premium %f\"%(PP))\n",
    "\n",
    "for i in range(30,65):\n",
    "    qx = mu(i)\n",
    "    symM.vSetPij(i,0,0,1-qx)\n",
    "    symM.vSetPij(i,0,1,qx)\n",
    "    symM.vSetPij(i,1,1,1.)\n",
    "    symM.vSetPost(i,0,1,200000.)\n",
    "    symM.vSetPre(i,0,0,-PP)\n",
    "\n",
    "symM.PrintDKs(iStart,iStop)\n",
    "symM.PlotDKs(iStart,iStop)\n",
    "\n"
   ]
  },
  {
   "cell_type": "code",
   "execution_count": 3,
   "metadata": {},
   "outputs": [
    {
     "name": "stdout",
     "output_type": "stream",
     "text": [
      "Discount 0.9662\n",
      "Discount 0.9662\n",
      "Premium -1.284766\n",
      "  35 :   49472.8083         0.0000  \n",
      "  36 :   50927.2466         0.0000  \n",
      "  37 :   52412.0003         0.0000  \n",
      "  38 :   53926.6916         0.0000  \n",
      "  39 :   55470.8375         0.0000  \n",
      "  40 :   57043.8413         0.0000  \n",
      "  41 :   58644.9829         0.0000  \n",
      "  42 :   60273.4087         0.0000  \n",
      "  43 :   61928.1207         0.0000  \n",
      "  44 :   63607.9648         0.0000  \n",
      "  45 :   65311.6181         0.0000  \n",
      "  46 :   67037.5751         0.0000  \n",
      "  47 :   68784.1330         0.0000  \n",
      "  48 :   70549.3750         0.0000  \n",
      "  49 :   72331.1532         0.0000  \n",
      "  50 :   74127.0680         0.0000  \n",
      "  51 :   75934.4468         0.0000  \n",
      "  52 :   77750.3193         0.0000  \n",
      "  53 :   79571.3900         0.0000  \n",
      "  54 :   81394.0068         0.0000  \n",
      "  55 :   83214.1256         0.0000  \n",
      "  56 :   85027.2690         0.0000  \n",
      "  57 :   86828.4791         0.0000  \n",
      "  58 :   88612.2616         0.0000  \n",
      "  59 :   90372.5212         0.0000  \n",
      "  60 :   92102.4839         0.0000  \n",
      "  61 :   93794.6057         0.0000  \n",
      "  62 :   95440.4621         0.0000  \n",
      "  63 :   97030.6159         0.0000  \n",
      "  64 :   98554.4558         0.0000  \n",
      "  65 :       0.0000         0.0000  \n",
      "  35 :   -38507.2574         0.0000  \n",
      "  36 :   -37721.6168         0.0000  \n",
      "  37 :   -36912.8152         0.0000  \n",
      "  38 :   -36080.2220         0.0000  \n",
      "  39 :   -35223.1775         0.0000  \n",
      "  40 :   -34340.9891         0.0000  \n",
      "  41 :   -33432.9260         0.0000  \n",
      "  42 :   -32498.2137         0.0000  \n",
      "  43 :   -31536.0269         0.0000  \n",
      "  44 :   -30545.4816         0.0000  \n",
      "  45 :   -29525.6255         0.0000  \n",
      "  46 :   -28475.4270         0.0000  \n",
      "  47 :   -27393.7625         0.0000  \n",
      "  48 :   -26279.4009         0.0000  \n",
      "  49 :   -25130.9861         0.0000  \n",
      "  50 :   -23947.0160         0.0000  \n",
      "  51 :   -22725.8186         0.0000  \n",
      "  52 :   -21465.5227         0.0000  \n",
      "  53 :   -20164.0248         0.0000  \n",
      "  54 :   -18818.9497         0.0000  \n",
      "  55 :   -17427.6034         0.0000  \n",
      "  56 :   -15986.9189         0.0000  \n",
      "  57 :   -14493.3906         0.0000  \n",
      "  58 :   -12942.9972         0.0000  \n",
      "  59 :   -11331.1106         0.0000  \n",
      "  60 :   -9652.3857         0.0000  \n",
      "  61 :   -7900.6301         0.0000  \n",
      "  62 :   -6068.6461         0.0000  \n",
      "  63 :   -4148.0417         0.0000  \n",
      "  64 :   -2129.0000         0.0000  \n",
      "  65 :       0.0000         0.0000  \n",
      "MR at 35: 10963.808299999997\n"
     ]
    },
    {
     "data": {
      "image/png": "[encoded data removed]",
      "text/plain": [
       "<Figure size 432x288 with 1 Axes>"
      ]
     },
     "metadata": {
      "needs_background": "light"
     },
     "output_type": "display_data"
    },
    {
     "data": {
      "image/png": "[encoded data removed]",
      "text/plain": [
       "<Figure size 432x288 with 1 Axes>"
      ]
     },
     "metadata": {
      "needs_background": "light"
     },
     "output_type": "display_data"
    }
   ],
   "source": [
    "symMB = Markov()\n",
    "symMP = Markov()\n",
    "\n",
    "symMB.vDefineModel(2)\n",
    "symMP.vDefineModel(2)\n",
    "\n",
    "symMB.vSetDiscount(0.035)\n",
    "symMP.vSetDiscount(0.035)\n",
    "\n",
    "\n",
    "\n",
    "\n",
    "\n",
    "iStart = 65\n",
    "iStop = 35\n",
    "PP = -2129\n",
    "\n",
    "for i in range(30,65):\n",
    "    qx = mu(i)\n",
    "    symMB.vSetPij(i,0,0,1-qx)\n",
    "    symMB.vSetPij(i,0,1,qx)\n",
    "    symMB.vSetPij(i,1,1,1.)\n",
    "    symMB.vSetPost(i,0,1,200000.)\n",
    "    symMB.vSetPre(i,0,0,0)\n",
    "    symMP.vSetPij(i,0,0,1-qx)\n",
    "    symMP.vSetPij(i,0,1,qx)\n",
    "    symMP.vSetPij(i,1,1,1.)\n",
    "    symMP.vSetPost(i,0,1,0.)\n",
    "    symMP.vSetPre(i,0,0,1*PP)\n",
    "\n",
    "symMB.vSetPost(iStart-1,0,0,100000.)\n",
    "\n",
    "PP = symMB.dGetDK(iStart,iStop,iStop,0)/symMP.dGetDK(iStart,iStop,iStop,0)\n",
    "\n",
    "print(\"Premium %f\"%(PP))\n",
    "\n",
    "symMB.PlotCFs(iStart,iStop,figNr=3)\n",
    "symMP.PlotCFs(iStart,iStop,figNr=4)\n",
    "\n",
    "symMB.PrintDKs(iStart,iStop)\n",
    "symMP.PrintDKs(iStart,iStop)\n",
    "\n",
    "print(\"MR at 35:\", 49472.8083-38509)"
   ]
  },
  {
   "cell_type": "code",
   "execution_count": 4,
   "metadata": {},
   "outputs": [
    {
     "name": "stdout",
     "output_type": "stream",
     "text": [
      "Discount 0.9569\n",
      "Discount 0.9569\n",
      "  35 :   39007.6869         0.0000  \n",
      "  36 :   40466.4773         0.0000  \n",
      "  37 :   41968.7037         0.0000  \n",
      "  38 :   43514.7768         0.0000  \n",
      "  39 :   45105.0324         0.0000  \n",
      "  40 :   46739.7241         0.0000  \n",
      "  41 :   48419.0151         0.0000  \n",
      "  42 :   50142.9706         0.0000  \n",
      "  43 :   51911.5489         0.0000  \n",
      "  44 :   53724.5927         0.0000  \n",
      "  45 :   55581.8198         0.0000  \n",
      "  46 :   57482.8137         0.0000  \n",
      "  47 :   59427.0138         0.0000  \n",
      "  48 :   61413.7049         0.0000  \n",
      "  49 :   63442.0068         0.0000  \n",
      "  50 :   65510.8634         0.0000  \n",
      "  51 :   67619.0309         0.0000  \n",
      "  52 :   69765.0663         0.0000  \n",
      "  53 :   71947.3147         0.0000  \n",
      "  54 :   74163.8961         0.0000  \n",
      "  55 :   76412.6917         0.0000  \n",
      "  56 :   78691.3286         0.0000  \n",
      "  57 :   80997.1638         0.0000  \n",
      "  58 :   83327.2660         0.0000  \n",
      "  59 :   85678.3960         0.0000  \n",
      "  60 :   88046.9838         0.0000  \n",
      "  61 :   90429.1029         0.0000  \n",
      "  62 :   92820.4395         0.0000  \n",
      "  63 :   95216.2566         0.0000  \n",
      "  64 :   97611.3509         0.0000  \n",
      "  65 :       0.0000         0.0000  \n",
      "  35 :   -34573.2668         0.0000  \n",
      "  36 :   -33967.4006         0.0000  \n",
      "  37 :   -33338.3755         0.0000  \n",
      "  38 :   -32685.3398         0.0000  \n",
      "  39 :   -32007.3996         0.0000  \n",
      "  40 :   -31303.6140         0.0000  \n",
      "  41 :   -30572.9892         0.0000  \n",
      "  42 :   -29814.4724         0.0000  \n",
      "  43 :   -29026.9436         0.0000  \n",
      "  44 :   -28209.2070         0.0000  \n",
      "  45 :   -27359.9800         0.0000  \n",
      "  46 :   -26477.8814         0.0000  \n",
      "  47 :   -25561.4164         0.0000  \n",
      "  48 :   -24608.9598         0.0000  \n",
      "  49 :   -23618.7362         0.0000  \n",
      "  50 :   -22588.7966         0.0000  \n",
      "  51 :   -21516.9907         0.0000  \n",
      "  52 :   -20400.9347         0.0000  \n",
      "  53 :   -19237.9735         0.0000  \n",
      "  54 :   -18025.1352         0.0000  \n",
      "  55 :   -16759.0783         0.0000  \n",
      "  56 :   -15436.0287         0.0000  \n",
      "  57 :   -14051.7047         0.0000  \n",
      "  58 :   -12601.2280         0.0000  \n",
      "  59 :   -11079.0177         0.0000  \n",
      "  60 :   -9478.6624         0.0000  \n",
      "  61 :   -7792.7677         0.0000  \n",
      "  62 :   -6012.7715         0.0000  \n",
      "  63 :   -4128.7207         0.0000  \n",
      "  64 :   -2129.0000         0.0000  \n",
      "  65 :       0.0000         0.0000  \n",
      "MR at 35: 10963.808299999997\n",
      "MR (Market Conistent at 35: 4434.420100000003\n"
     ]
    }
   ],
   "source": [
    "symMB.vSetDiscount(0.045)\n",
    "symMP.vSetDiscount(0.045)\n",
    "\n",
    "symMB.PrintDKs(iStart,iStop)\n",
    "symMP.PrintDKs(iStart,iStop)\n",
    "\n",
    "print(\"MR at 35:\", 49472.8083-38509)\n",
    "\n",
    "print(\"MR (Market Conistent at 35:\", 39007.6869-34573.2668)"
   ]
  },
  {
   "cell_type": "code",
   "execution_count": 5,
   "metadata": {},
   "outputs": [
    {
     "name": "stdout",
     "output_type": "stream",
     "text": [
      "What is the interest rate risk\n",
      "Discount 0.9852\n",
      "Discount 0.9852\n",
      "Discount 0.9804\n",
      "Discount 0.9804\n",
      "Discount 0.9756\n",
      "Discount 0.9756\n",
      "Discount 0.9709\n",
      "Discount 0.9709\n",
      "Discount 0.9662\n",
      "Discount 0.9662\n",
      "Discount 0.9615\n",
      "Discount 0.9615\n",
      "Discount 0.9569\n",
      "Discount 0.9569\n",
      "Discount 0.9524\n",
      "Discount 0.9524\n",
      "Discount 0.9479\n",
      "Discount 0.9479\n"
     ]
    },
    {
     "data": {
      "image/png": "[encoded data removed]",
      "text/plain": [
       "<Figure size 432x288 with 1 Axes>"
      ]
     },
     "metadata": {
      "needs_background": "light"
     },
     "output_type": "display_data"
    },
    {
     "data": {
      "image/png": "[encoded data removed]",
      "text/plain": [
       "<Figure size 432x288 with 1 Axes>"
      ]
     },
     "metadata": {
      "needs_background": "light"
     },
     "output_type": "display_data"
    }
   ],
   "source": [
    "print(\"What is the interest rate risk\")\n",
    "\n",
    "iR = [0.035-0.02,0.035-0.015,0.035-0.01,0.035-0.005,0.035, 0.035+0.005, 0.035+0.01, 0.035+0.015, 0.035+0.02 ]\n",
    "MR =[]\n",
    "\n",
    "for iRate in iR:\n",
    "    symMB.vSetDiscount(iRate)\n",
    "    symMP.vSetDiscount(iRate)\n",
    "    MR.append(symMB.dGetDK(iStart,iStop,iStop,0)+symMP.dGetDK(iStart,iStop,iStop,0))\n",
    "    \n",
    "    \n",
    "plt.figure(1)\n",
    "plt.plot(iR,MR)\n",
    "plt.grid(True)\n",
    "    \n",
    "PnL =[]\n",
    "iMid = 4\n",
    "for i in range(len(MR)):\n",
    "    PnL.append(MR[iMid]-MR[i])\n",
    "    \n",
    "plt.figure(2)\n",
    "plt.plot(iR,PnL,\"ro\")\n",
    "plt.grid(True)  \n"
   ]
  },
  {
   "cell_type": "code",
   "execution_count": 41,
   "metadata": {},
   "outputs": [
    {
     "name": "stdout",
     "output_type": "stream",
     "text": [
      "Example ALM with a 10 year Bond\n",
      "Nominal Value of Bond 15465.53\n"
     ]
    }
   ],
   "source": [
    "nBond = 10\n",
    "vBond = 10963.808299999997\n",
    "iNeutral = iR[iMid]\n",
    "print(\"Example ALM with a %d year Bond\"%(nBond))\n",
    "fNom = vBond * (1. + iNeutral)**nBond\n",
    "print(\"Nominal Value of Bond %.2f\"%(fNom))"
   ]
  },
  {
   "cell_type": "code",
   "execution_count": 42,
   "metadata": {},
   "outputs": [
    {
     "data": {
      "image/png": "[encoded data removed]",
      "text/plain": [
       "<Figure size 432x288 with 1 Axes>"
      ]
     },
     "metadata": {
      "needs_background": "light"
     },
     "output_type": "display_data"
    }
   ],
   "source": [
    "CFLiab = []\n",
    "CFAssets = []\n",
    "n=101\n",
    "\n",
    "for i in range(n):\n",
    "    CFLiab.append(symMB.dGetCF(iStart,iStop,iStop+i,0)+symMP.dGetCF(iStart,iStop,iStop+i,0))\n",
    "    if (i == nBond):\n",
    "        fCFBond = fNom\n",
    "    else:\n",
    "        fCFBond = 0\n",
    "    CFAssets.append(fCFBond)\n",
    "    \n",
    "plt.figure(2)\n",
    "plt.plot(range(n),CFLiab,\"go\",range(n),CFAssets,\"rp\")\n",
    "plt.grid(True)  "
   ]
  },
  {
   "cell_type": "code",
   "execution_count": 39,
   "metadata": {},
   "outputs": [
    {
     "name": "stdout",
     "output_type": "stream",
     "text": [
      "10965.55095695028\n",
      "10963.808299999999\n"
     ]
    }
   ],
   "source": [
    "def Value(CF, iRate): #Here only one risk factor namely flat rate\n",
    "    dTemp = 0\n",
    "    for i in range(len(CF)):\n",
    "        dTemp += CF[i] *(1+iRate)**(-i)\n",
    "    return(dTemp)\n",
    "\n",
    "# Assume you have the interest to maturity of ZCB  price = (1+in)^(-n)\n",
    "# We can use a more elaborated valuation\n",
    "\n",
    "def ValueIRVec(CF, iRateVect): #Here only one risk factor namely flat rate\n",
    "    dTemp = 0\n",
    "    for i in range(len(CF)):\n",
    "        dTemp += CF[i] *(1+iRateVect[i])**(-i)\n",
    "    return(dTemp)\n",
    "\n",
    "\n",
    "print(Value(CFLiab, 0.035))\n",
    "print(Value(CFAssets, 0.035))\n",
    "\n"
   ]
  },
  {
   "cell_type": "code",
   "execution_count": 40,
   "metadata": {},
   "outputs": [
    {
     "data": {
      "image/png": "[encoded data removed]",
      "text/plain": [
       "<Figure size 432x288 with 1 Axes>"
      ]
     },
     "metadata": {
      "needs_background": "light"
     },
     "output_type": "display_data"
    }
   ],
   "source": [
    "PnL =[]\n",
    "iMid = 4\n",
    "for i in range(len(iR)):\n",
    "    iNeutral = iR[iMid]\n",
    "    iStressed = iR[i]\n",
    "    ValueNeutral= Value(CFAssets, iNeutral) - Value(CFLiab, iNeutral)  \n",
    "    ValueStressed = Value(CFAssets, iStressed) - Value(CFLiab, iStressed) \n",
    "    PnL.append(ValueStressed-ValueNeutral)\n",
    "    \n",
    "plt.figure(2)\n",
    "plt.plot(iR,PnL,\"ro\")\n",
    "plt.grid(True)  \n"
   ]
  },
  {
   "cell_type": "code",
   "execution_count": null,
   "metadata": {},
   "outputs": [],
   "source": []
  }
 ],
 "metadata": {
  "kernelspec": {
   "display_name": "Python 3 (ipykernel)",
   "language": "python",
   "name": "python3"
  },
  "language_info": {
   "codemirror_mode": {
    "name": "ipython",
    "version": 3
   },
   "file_extension": ".py",
   "mimetype": "text/x-python",
   "name": "python",
   "nbconvert_exporter": "python",
   "pygments_lexer": "ipython3",
   "version": "3.12.4"
  }
 },
 "nbformat": 4,
 "nbformat_minor": 4
}
