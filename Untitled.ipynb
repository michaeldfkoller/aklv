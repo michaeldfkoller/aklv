{
 "cells": [
  {
   "cell_type": "markdown",
   "id": "6641eb97-3729-47d8-96fa-2e506627d748",
   "metadata": {},
   "source": [
    "$\\ddot{a}_x$"
   ]
  },
  {
   "cell_type": "markdown",
   "id": "29f2b324-9483-4ff4-a163-bede5dc1c22c",
   "metadata": {},
   "source": [
    "As long as you you are alive you are paid 1 if you are still alive prenummerando\n",
    "\n",
    "ex x=65 (1.1.2025) and You die at 68.5\n",
    "\n",
    "Then you get\n",
    "\n",
    "1.1.25 --> 1\n",
    "\n",
    "1.1.26 --> 1 (66)\n",
    "\n",
    "1.1.27 --> 1 (67)\n",
    "\n",
    "1.1.28 --> 1 (68)\n",
    "\n",
    "1.1.29 --> 0 (would be 69)\n"
   ]
  },
  {
   "cell_type": "markdown",
   "id": "6de19f3c-3b22-47c9-84db-8a75e3ecc265",
   "metadata": {},
   "source": [
    "$\\ddot{a}_x^{(4)}$"
   ]
  },
  {
   "cell_type": "markdown",
   "id": "6be5470e-4623-4e15-8e7d-c58d0f1eb395",
   "metadata": {},
   "source": [
    "As long as you you are alive you are paid 1/4 per quarter if you are still alive prenummerando\n",
    "\n",
    "ex x=65 (1.1.2025) and You die at 68.6\n",
    "\n",
    "Then you get\n",
    "\n",
    "1.1.25 --> 1/4\n",
    "\n",
    "1.4.25 --> 1/4\n",
    "\n",
    "1.7.25 --> 1/4\n",
    "\n",
    "1.10.25 --> 1/4\n",
    "\n",
    "1.1.26 --> 1/4 (66)\n",
    "\n",
    "etc\n",
    "\n",
    "\n",
    "1.1.28 --> 1/4 (68)\n",
    "\n",
    "1.4.25 --> 1/4 (68.25)\n",
    "\n",
    "1.7.25 --> 1/4 (68.50)\n",
    "\n",
    "1.10.25 --> 0  (would be 68.75)\n",
    "\n",
    "1.1.29 --> 0 (would be 69)"
   ]
  },
  {
   "cell_type": "markdown",
   "id": "ec46494c-5cf1-4ab4-9084-d832072fecfa",
   "metadata": {},
   "source": [
    "Disability Waiting period 6 Month - quarterly payment\n",
    "\n",
    "\n",
    "30. you get disabled\n",
    "\n",
    "30.25 you are in state $\\diamondsuit$ you dont get anything\n",
    "\n",
    "30.50 you are in state $\\diamondsuit$ you dont get anything\n",
    "\n",
    "30.75 you are in state $\\diamondsuit$ you get 0.25\n",
    "\n",
    "now the taylor approaximatuion effects $a_{\\star\\dagger)}^{Post}$\n",
    "\n"
   ]
  },
  {
   "cell_type": "markdown",
   "id": "32efd9ab-1386-423c-90a8-371e221f907a",
   "metadata": {},
   "source": [
    "Waiver (Rueckgewaehr)\n",
    "\n",
    "Assume you are 50 and paid 100000 CHF for an annuity \n",
    "\n",
    "Type 1: if die before getting the annuity eg 65 you are paid pack the 100k. if you die after 65 you just get the past annuities.\n",
    "\n",
    "idea EE = DeathBenefit (100k until 65) + annuity starting at 65\n",
    "\n",
    "$ EE = EE \\times A_{x:n}^1 + {}|_n\\ddot{a}_x$\n",
    "\n",
    "$ EE = \\frac{{}|_n\\ddot{a}_x}{1- A_{x:n}^1 }$\n",
    "\n",
    "Type 2: get back sum or premiums paid - sum annuities\n",
    "\n"
   ]
  },
  {
   "cell_type": "code",
   "execution_count": null,
   "id": "d38f6ffa-8781-4e5e-9903-5678e9d61474",
   "metadata": {},
   "outputs": [],
   "source": []
  }
 ],
 "metadata": {
  "kernelspec": {
   "display_name": "Python 3 (ipykernel)",
   "language": "python",
   "name": "python3"
  },
  "language_info": {
   "codemirror_mode": {
    "name": "ipython",
    "version": 3
   },
   "file_extension": ".py",
   "mimetype": "text/x-python",
   "name": "python",
   "nbconvert_exporter": "python",
   "pygments_lexer": "ipython3",
   "version": "3.9.7"
  }
 },
 "nbformat": 4,
 "nbformat_minor": 5
}
