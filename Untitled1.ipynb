{
 "cells": [
  {
   "cell_type": "markdown",
   "id": "4dcc23e6-33cc-4928-a396-387f0d8e7f57",
   "metadata": {},
   "source": [
    "$ \\Omega = \\cup_{j\\in S} \\{ X_t = j \\}$"
   ]
  },
  {
   "cell_type": "markdown",
   "id": "45619a4f-08eb-4ee8-b012-aeb6667913fa",
   "metadata": {},
   "source": [
    "$ \\mathbb{1} = \\sum_{j\\in S} \\mathbb{1}_{\\{ X_t = j \\}}$"
   ]
  },
  {
   "cell_type": "markdown",
   "id": "a4554983-7d60-485c-a00b-7f3ab7eca903",
   "metadata": {},
   "source": [
    "$\\mathbb{E}[\\int_T I_j(\\tau) dA |X_s=i] = \\int_T p_{ij}(s,\\tau) dA(\\tau)$"
   ]
  },
  {
   "cell_type": "markdown",
   "id": "f8790466-3baf-4bb6-8cb5-77b3d28ba978",
   "metadata": {},
   "source": [
    "$\\frac{1}{v(s)}\\mathbb{E}[\\int_T v(\\tau) I_j(\\tau) dA |X_s=i] = \\frac{1}{v(s)} \\int_T v(\\tau) p_{ij}(s,\\tau) dA(\\tau)$"
   ]
  },
  {
   "cell_type": "markdown",
   "id": "175401cd-9b5d-46d5-a6b1-a04939656019",
   "metadata": {},
   "source": [
    "$ c \\sum_{k}^{n-1} {}_tp_{x} v^k = b \\sum_{k}^{n-1} {}_tp_{x} q_{x+k} v^k $\n",
    "\n",
    "$c  = b \\frac{\\sum_{k}^{n-1} {}_tp_{x} q_{x+k} v^k}{\\sum_{k}^{n-1} {}_tp_{x} v^k} $ "
   ]
  },
  {
   "cell_type": "code",
   "execution_count": null,
   "id": "d7a6a243-2249-4007-a372-d814ffdb4bd9",
   "metadata": {},
   "outputs": [],
   "source": []
  }
 ],
 "metadata": {
  "kernelspec": {
   "display_name": "Python 3 (ipykernel)",
   "language": "python",
   "name": "python3"
  },
  "language_info": {
   "codemirror_mode": {
    "name": "ipython",
    "version": 3
   },
   "file_extension": ".py",
   "mimetype": "text/x-python",
   "name": "python",
   "nbconvert_exporter": "python",
   "pygments_lexer": "ipython3",
   "version": "3.9.7"
  }
 },
 "nbformat": 4,
 "nbformat_minor": 5
}
